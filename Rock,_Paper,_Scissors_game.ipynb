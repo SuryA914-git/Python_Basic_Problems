{
  "nbformat": 4,
  "nbformat_minor": 0,
  "metadata": {
    "colab": {
      "provenance": [],
      "authorship_tag": "ABX9TyODI6DGERo3zLEgoypO5Ob/",
      "include_colab_link": true
    },
    "kernelspec": {
      "name": "python3",
      "display_name": "Python 3"
    },
    "language_info": {
      "name": "python"
    }
  },
  "cells": [
    {
      "cell_type": "markdown",
      "metadata": {
        "id": "view-in-github",
        "colab_type": "text"
      },
      "source": [
        "<a href=\"https://colab.research.google.com/github/Suryarao23/Python_Basic_Problems/blob/main/Rock%2C_Paper%2C_Scissors_game.ipynb\" target=\"_parent\"><img src=\"https://colab.research.google.com/assets/colab-badge.svg\" alt=\"Open In Colab\"/></a>"
      ]
    },
    {
      "cell_type": "code",
      "source": [
        "import random\n",
        "user_score = 0\n",
        "computer_score = 0\n",
        "n = int(input(\"Number of rounds to play: \"))\n",
        "for i in range(n):\n",
        "  game_parameters = [\"R\", \"P\", \"S\"]\n",
        "  computer = random.choice(game_parameters)\n",
        "  while (True):\n",
        "    user_parameter = str(input(\"Please Choose among: 'R'/'P'/'S': \"))\n",
        "    if (user_parameter == \"R\" or user_parameter == \"P\" or user_parameter == \"S\"):\n",
        "      break\n",
        "    else:\n",
        "      print(\"Choose the right paramter\")\n",
        "  \n",
        "  if(computer == 'R'):\n",
        "    if (user_parameter == computer):\n",
        "      print(f\"Computer {computer} and user {user_parameter} have choosen same, It's a Tie \")\n",
        "    elif (user_parameter == 'S'):\n",
        "      print(f\"Computer choosen {computer} and user choosen {user_parameter}, Computer Won this round \")\n",
        "      computer_score += 1\n",
        "    elif (user_parameter == 'P'):\n",
        "      print(f\"Computer choosen {computer} and user choosen {user_parameter}, User Won this round \")\n",
        "      user_score += 1\n",
        "  if(computer == 'P'):\n",
        "    if (user_parameter == computer):\n",
        "      print(f\"Computer {computer} and user {user_parameter} have choosen same, It's a Tie \")\n",
        "    elif (user_parameter == 'R'):\n",
        "      print(f\"Computer choosen {computer} and user choosen {user_parameter}, Computer Won this round \")\n",
        "      computer_score += 1\n",
        "    elif (user_parameter == 'S'):\n",
        "      print(f\"Computer choosen {computer} and user choosen {user_parameter}, User Won this round \")\n",
        "      user_score += 1\n",
        "  if(computer == 'S'):\n",
        "    if (user_parameter == computer):\n",
        "      print(f\"Computer {computer} and user {user_parameter} have choosen same, It's a Tie \")\n",
        "    elif (user_parameter == 'P'):\n",
        "      print(f\"Computer choosen {computer} and user choosen {user_parameter}, Computer Won this round \")\n",
        "      computer_score += 1\n",
        "    elif (user_parameter == 'R'):\n",
        "      print(f\"Computer choosen {computer} and user choosen {user_parameter}, User Won this round \")\n",
        "      user_score += 1\n",
        "print(f\"\\nScore of computer after {n} rounds of the game: \", computer_score)\n",
        "print(f\"\\nScore of User after {n} rounds of the game: \", user_score)\n",
        "\n",
        "if (user_score > computer_score):\n",
        "  print(\"\\nUser won the Game\")\n",
        "elif (user_score == computer_score):\n",
        "  print(\"\\nComputer score and User score are same, So total game is Drawn\")\n",
        "else:\n",
        "  print(\"\\nComputer won the game\")"
      ],
      "metadata": {
        "id": "d_uT9t-WeXUv",
        "colab": {
          "base_uri": "https://localhost:8080/"
        },
        "outputId": "61f9d228-7f11-4a06-8543-dae1f02ea8a4"
      },
      "execution_count": 25,
      "outputs": [
        {
          "output_type": "stream",
          "name": "stdout",
          "text": [
            "Number of rounds to play: 5\n",
            "Please Choose among: 'R'/'P'/'S': S\n",
            "Computer S and user S have choosen same, It's a Tie \n",
            "Please Choose among: 'R'/'P'/'S': P\n",
            "Computer P and user P have choosen same, It's a Tie \n",
            "Please Choose among: 'R'/'P'/'S': R\n",
            "Computer choosen P and user choosen R, Computer Won this round \n",
            "Please Choose among: 'R'/'P'/'S': S\n",
            "Computer choosen P and user choosen S, User Won this round \n",
            "Please Choose among: 'R'/'P'/'S': P\n",
            "Computer P and user P have choosen same, It's a Tie \n",
            "\n",
            "Score of computer after 5 rounds of the game:  1\n",
            "\n",
            "Score of User after 5 rounds of the game:  1\n",
            "\n",
            "Computer score and User score are same, So total game is Drawn\n"
          ]
        }
      ]
    },
    {
      "cell_type": "code",
      "source": [],
      "metadata": {
        "id": "0EhAtpjyvoi8"
      },
      "execution_count": 21,
      "outputs": []
    }
  ]
}