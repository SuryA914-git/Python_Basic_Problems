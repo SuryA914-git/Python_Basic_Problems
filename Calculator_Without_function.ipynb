{
  "nbformat": 4,
  "nbformat_minor": 0,
  "metadata": {
    "colab": {
      "provenance": [],
      "authorship_tag": "ABX9TyNAfUjCsyImb05eMcNU0ZZf",
      "include_colab_link": true
    },
    "kernelspec": {
      "name": "python3",
      "display_name": "Python 3"
    },
    "language_info": {
      "name": "python"
    }
  },
  "cells": [
    {
      "cell_type": "markdown",
      "metadata": {
        "id": "view-in-github",
        "colab_type": "text"
      },
      "source": [
        "<a href=\"https://colab.research.google.com/github/Suryarao23/Python_Basic_Problems/blob/main/Calculator_Without_function.ipynb\" target=\"_parent\"><img src=\"https://colab.research.google.com/assets/colab-badge.svg\" alt=\"Open In Colab\"/></a>"
      ]
    },
    {
      "cell_type": "code",
      "execution_count": null,
      "metadata": {
        "colab": {
          "base_uri": "https://localhost:8080/",
          "height": 35
        },
        "id": "BJ7ZgElpkbS9",
        "outputId": "06338d35-ab3d-401a-aebb-4867d7855903"
      },
      "outputs": [
        {
          "output_type": "execute_result",
          "data": {
            "text/plain": [
              "'Calculator based on User Inputs'"
            ],
            "application/vnd.google.colaboratory.intrinsic+json": {
              "type": "string"
            }
          },
          "metadata": {},
          "execution_count": 5
        }
      ],
      "source": [
        "\"Calculator based on User Inputs\""
      ]
    },
    {
      "cell_type": "code",
      "source": [
        "\"User needs to Enter Two Operands\""
      ],
      "metadata": {
        "colab": {
          "base_uri": "https://localhost:8080/",
          "height": 35
        },
        "id": "SZ5t9SI1koaI",
        "outputId": "0ecd3c35-826b-4610-e67c-711abb772748"
      },
      "execution_count": null,
      "outputs": [
        {
          "output_type": "execute_result",
          "data": {
            "text/plain": [
              "'User needs to Enter Two Operands'"
            ],
            "application/vnd.google.colaboratory.intrinsic+json": {
              "type": "string"
            }
          },
          "metadata": {},
          "execution_count": 6
        }
      ]
    },
    {
      "cell_type": "code",
      "source": [
        "\"\"\"Select the Operator among '+', '-', '*', '/', '%', '**' \"\"\"\n",
        "print(\"\"\"For addition -- '+' \n",
        "For Subtraction -- '-' \"\n",
        "For Multiplication -- '*' \n",
        "For Division -- '/' \n",
        "For Remainder -- '%' \n",
        "For Power -- ** \"\"\")\n",
        "print()"
      ],
      "metadata": {
        "colab": {
          "base_uri": "https://localhost:8080/"
        },
        "id": "EF2XSpqhlOmq",
        "outputId": "68353a4c-701a-40da-b507-2ba205117e94"
      },
      "execution_count": null,
      "outputs": [
        {
          "output_type": "stream",
          "name": "stdout",
          "text": [
            "For addition -- '+' \n",
            "For Subtraction -- '-' \"\n",
            "For Multiplication -- '*' \n",
            "For Division -- '/' \n",
            "For Remainder -- '%' \n",
            "For Power -- ** \n",
            "\n"
          ]
        }
      ]
    },
    {
      "cell_type": "code",
      "source": [
        "New_operation = \"Y\"\n",
        "while(New_operation == \"Y\"):\n",
        "  Input1 = float(input(\"Input-1 (Number): \"))\n",
        "  Input2 = float(input(\"Input-2 (Number): \"))\n",
        "  Input3 = str(input(\"Input-3 (Operator): \"))\n",
        "  if(Input3 == '+'):\n",
        "    print(f\"{Input1} {Input3} {Input2} = \", Input1 + Input2)\n",
        "  elif(Input3 == '-'):\n",
        "    print(f\"{Input1} {Input3} {Input2} = \", Input1 - Input2)\n",
        "  elif(Input3 == '*'):\n",
        "    print(f\"{Input1} {Input3} {Input2} = \", Input1 * Input2)\n",
        "  elif(Input3 == '/'):\n",
        "    print(f\"{Input1} {Input3} {Input2} = \", Input1 / Input2)\n",
        "  elif(Input3 == '%'):\n",
        "    print(f\"{Input1} {Input3} {Input2} = \", Input1 % Input2)\n",
        "  elif(Input3 == '**'):\n",
        "    print(f\"{Input1} {Input3} {Input2} = \", Input1 ** Input2)\n",
        "  else:\n",
        "    print(\"This operator is not available in this calculator\")\n",
        "  New_operation = str(input(\"To continue for Next Operation -- Type 'Y', if no press any key: \"))"
      ],
      "metadata": {
        "id": "1ZRgxTdipIeR",
        "colab": {
          "base_uri": "https://localhost:8080/"
        },
        "outputId": "a52857f8-4711-4f17-e10c-857b4255f457"
      },
      "execution_count": null,
      "outputs": [
        {
          "name": "stdout",
          "output_type": "stream",
          "text": [
            "Input-1 (Number): 54544\n",
            "Input-2 (Number): 3444\n",
            "Input-3 (Operator): -\n",
            "54544.0 - 3444.0 =  51100.0\n",
            "To continue for Next Operation -- Type 'Y', if no press any key: Y\n",
            "Input-1 (Number): 22\n",
            "Input-2 (Number): 323\n",
            "Input-3 (Operator): +\n",
            "22.0 + 323.0 =  345.0\n",
            "To continue for Next Operation -- Type 'Y', if no press any key: 8\n"
          ]
        }
      ]
    },
    {
      "cell_type": "code",
      "source": [],
      "metadata": {
        "id": "5v4GSlBq9V7p"
      },
      "execution_count": null,
      "outputs": []
    }
  ]
}