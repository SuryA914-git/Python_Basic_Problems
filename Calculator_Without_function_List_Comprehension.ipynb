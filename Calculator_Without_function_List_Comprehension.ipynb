{
  "nbformat": 4,
  "nbformat_minor": 0,
  "metadata": {
    "colab": {
      "provenance": [],
      "authorship_tag": "ABX9TyMhkzoQY7LX2y0taRhGF5FE",
      "include_colab_link": true
    },
    "kernelspec": {
      "name": "python3",
      "display_name": "Python 3"
    },
    "language_info": {
      "name": "python"
    }
  },
  "cells": [
    {
      "cell_type": "markdown",
      "metadata": {
        "id": "view-in-github",
        "colab_type": "text"
      },
      "source": [
        "<a href=\"https://colab.research.google.com/github/Suryarao23/Python_Basic_Problems/blob/main/Calculator_Without_function_List_Comprehension.ipynb\" target=\"_parent\"><img src=\"https://colab.research.google.com/assets/colab-badge.svg\" alt=\"Open In Colab\"/></a>"
      ]
    },
    {
      "cell_type": "code",
      "execution_count": null,
      "metadata": {
        "colab": {
          "base_uri": "https://localhost:8080/",
          "height": 35
        },
        "id": "BJ7ZgElpkbS9",
        "outputId": "06338d35-ab3d-401a-aebb-4867d7855903"
      },
      "outputs": [
        {
          "output_type": "execute_result",
          "data": {
            "text/plain": [
              "'Calculator based on User Inputs'"
            ],
            "application/vnd.google.colaboratory.intrinsic+json": {
              "type": "string"
            }
          },
          "metadata": {},
          "execution_count": 5
        }
      ],
      "source": [
        "\"Calculator based on User Inputs\""
      ]
    },
    {
      "cell_type": "code",
      "source": [
        "\"User needs to Enter Two Operands\""
      ],
      "metadata": {
        "colab": {
          "base_uri": "https://localhost:8080/",
          "height": 35
        },
        "id": "SZ5t9SI1koaI",
        "outputId": "0ecd3c35-826b-4610-e67c-711abb772748"
      },
      "execution_count": null,
      "outputs": [
        {
          "output_type": "execute_result",
          "data": {
            "text/plain": [
              "'User needs to Enter Two Operands'"
            ],
            "application/vnd.google.colaboratory.intrinsic+json": {
              "type": "string"
            }
          },
          "metadata": {},
          "execution_count": 6
        }
      ]
    },
    {
      "cell_type": "code",
      "source": [
        "print(\"\"\"Select the Operator among '+', '-', '*', '/', '%', '**' \"\"\")\n",
        "print(\"\"\"For addition -- '+' \n",
        "For Subtraction -- '-' \"\n",
        "For Multiplication -- '*' \n",
        "For Division -- '/' \n",
        "For Remainder -- '%' \n",
        "For Power -- ** \"\"\")\n",
        "print()"
      ],
      "metadata": {
        "colab": {
          "base_uri": "https://localhost:8080/"
        },
        "id": "EF2XSpqhlOmq",
        "outputId": "9bcc1e0d-ab06-448f-cf0e-530c5766a325"
      },
      "execution_count": 11,
      "outputs": [
        {
          "output_type": "stream",
          "name": "stdout",
          "text": [
            "Select the Operator among '+', '-', '*', '/', '%', '**' \n",
            "For addition -- '+' \n",
            "For Subtraction -- '-' \"\n",
            "For Multiplication -- '*' \n",
            "For Division -- '/' \n",
            "For Remainder -- '%' \n",
            "For Power -- ** \n",
            "\n"
          ]
        }
      ]
    },
    {
      "cell_type": "code",
      "source": [
        "New_operation = \"Y\"\n",
        "# Input1, Input2, Input3 = float(input(\"Input-1 (Number): \")), float(input(\"Input-2 (Number): \")), str(input(\"Input-3 (Operator): \"))\n",
        "# Input2 = float(input(\"Input-2 (Number): \"))\n",
        "# Input3 = str(input(\"Input-3 (Operator): \"))\n",
        "for i in range(100):\n",
        "  Input1, Input2, Input3 = float(input(\"Input-1 (Number): \")), float(input(\"Input-2 (Number): \")), str(input(\"Input-3 (Operator): \"))\n",
        "  calculator = [print(f\"{Input1} {Input3} {Input2} = \", Input1 + Input2) if(Input3 == '+')  \n",
        "  else print(f\"{Input1} {Input3} {Input2} = \", Input1 - Input2) if (Input3 == '-') \n",
        "  else print(f\"{Input1} {Input3} {Input2} = \", Input1 * Input2) if (Input3 == '*') \n",
        "  else print(f\"{Input1} {Input3} {Input2} = \", Input1 / Input2) if (Input3 == '/') \n",
        "  else print(f\"{Input1} {Input3} {Input2} = \", Input1 % Input2) if (Input3 == '%') \n",
        "  else print(f\"{Input1} {Input3} {Input2} = \", Input1 ** Input2) if (Input3 == '**') \n",
        "  else print(\"This operator is not available in this calculator\") ]\n",
        "  New_operation = str(input(\"To continue for Next Operation -- Type 'Y', if no press any key: \"))\n",
        "  if (New_operation != 'Y'):\n",
        "    break"
      ],
      "metadata": {
        "id": "5v4GSlBq9V7p",
        "colab": {
          "base_uri": "https://localhost:8080/"
        },
        "outputId": "23bac041-66a1-4b58-8745-7cba84a35f7e"
      },
      "execution_count": 12,
      "outputs": [
        {
          "name": "stdout",
          "output_type": "stream",
          "text": [
            "Input-1 (Number): 1\n",
            "Input-2 (Number): 2\n",
            "Input-3 (Operator): -\n",
            "1.0 - 2.0 =  -1.0\n",
            "To continue for Next Operation -- Type 'Y', if no press any key: Y\n",
            "Input-1 (Number): 2\n",
            "Input-2 (Number): 3\n",
            "Input-3 (Operator): /\n",
            "2.0 / 3.0 =  0.6666666666666666\n",
            "To continue for Next Operation -- Type 'Y', if no press any key: n\n"
          ]
        }
      ]
    },
    {
      "cell_type": "code",
      "source": [],
      "metadata": {
        "id": "ETAzm_dECcFo"
      },
      "execution_count": null,
      "outputs": []
    }
  ]
}